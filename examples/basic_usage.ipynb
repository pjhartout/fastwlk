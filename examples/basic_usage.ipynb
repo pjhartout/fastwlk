{
 "cells": [
  {
   "cell_type": "code",
   "execution_count": 1,
   "metadata": {},
   "outputs": [],
   "source": [
    "import pickle\n",
    "\n",
    "from pyprojroot import here\n",
    "\n",
    "from fastwlk.kernel import WeisfeilerLehmanKernel\n"
   ]
  },
  {
   "cell_type": "code",
   "execution_count": 2,
   "metadata": {},
   "outputs": [],
   "source": [
    "# Let's first load some graphs from a pickle file\n",
    "with open(here() / \"data/graphs.pkl\", \"rb\") as f:\n",
    "        graphs = pickle.load(f)"
   ]
  },
  {
   "cell_type": "code",
   "execution_count": 3,
   "metadata": {},
   "outputs": [
    {
     "name": "stderr",
     "output_type": "stream",
     "text": [
      "Compute hashes of X: 100%|███████████████████████████████████████████████████████████████████████████████████████████████████████████████████████████████| 100/100 [00:01<00:00, 95.26it/s]\n",
      "Compute dot products: 100%|██████████████████████████████████████████████████████████████████████████████████████████████████████████████████████████████████| 6/6 [00:00<00:00, 18.84it/s]\n",
      "Compute hashes of X: 100%|████████████████████████████████████████████████████████████████████████████████████████████████████████████████████████████████| 30/30 [00:00<00:00, 131.14it/s]\n",
      "Compute hashes of Y: 100%|████████████████████████████████████████████████████████████████████████████████████████████████████████████████████████████████| 70/70 [00:00<00:00, 132.53it/s]\n",
      "Compute dot products: 100%|██████████████████████████████████████████████████████████████████████████████████████████████████████████████████████████████████| 6/6 [00:00<00:00, 21.19it/s]\n"
     ]
    }
   ],
   "source": [
    "wl_kernel = WeisfeilerLehmanKernel(\n",
    "        n_jobs=6, n_iter=4, node_label=\"residue\", biased=True, verbose=True\n",
    ")\n",
    "# Returns self-similarity kernel matrix\n",
    "KX = wl_kernel.compute_gram_matrix(graphs)\n",
    "\n",
    "# Returns similarity kernel matrix between two different graph distributions\n",
    "KXY = wl_kernel.compute_gram_matrix(graphs[:30], graphs[30:])"
   ]
  },
  {
   "cell_type": "code",
   "execution_count": 4,
   "metadata": {},
   "outputs": [
    {
     "name": "stdout",
     "output_type": "stream",
     "text": [
      "(100, 100)\n",
      "(30, 70)\n"
     ]
    }
   ],
   "source": [
    "print(KX.shape)\n",
    "print(KXY.shape)"
   ]
  },
  {
   "cell_type": "code",
   "execution_count": 5,
   "metadata": {},
   "outputs": [
    {
     "name": "stderr",
     "output_type": "stream",
     "text": [
      "Compute hashes of X: 100%|██████████████████████████████████████████████████████████████████████████████████████████████████████████████████████████████| 100/100 [00:00<00:00, 136.93it/s]\n",
      "Compute dot products: 100%|██████████████████████████████████████████████████████████████████████████████████████████████████████████████████████████████████| 6/6 [00:00<00:00, 17.61it/s]\n",
      "Compute hashes of X: 100%|██████████████████████████████████████████████████████████████████████████████████████████████████████████████████████████████| 100/100 [00:00<00:00, 133.78it/s]\n",
      "Compute dot products: 100%|██████████████████████████████████████████████████████████████████████████████████████████████████████████████████████████████████| 6/6 [00:00<00:00, 18.33it/s]\n"
     ]
    }
   ],
   "source": [
    "# It's also possible to get an unbiased version of the kernel matrix, avoiding comparing X_i to itself, saving even more computations.\n",
    "# This can be useful when evaluating unbiased estimates of the maximum mean discrepancy and other similarity measures in RKHS.\n",
    "\n",
    "wl_kernel_unbiased = WeisfeilerLehmanKernel(\n",
    "        n_jobs=6, n_iter=4, node_label=\"residue\", biased=False, verbose=True,\n",
    "    )\n",
    "# Returns unbiased self-similarity kernel matrix\n",
    "KX_unbiased = wl_kernel_unbiased.compute_gram_matrix(graphs)\n",
    "\n",
    "wl_kernel_biased = WeisfeilerLehmanKernel(\n",
    "    n_jobs=6, n_iter=4, node_label=\"residue\", biased=True, verbose=True,\n",
    ")\n",
    "# Returns biased self-similarity kernel matrix\n",
    "KX_biased = wl_kernel_biased.compute_gram_matrix(graphs)"
   ]
  },
  {
   "cell_type": "code",
   "execution_count": 6,
   "metadata": {},
   "outputs": [
    {
     "name": "stdout",
     "output_type": "stream",
     "text": [
      "Unbiased kernel matrix:\n",
      "[[    0  5062  5009 ...  6347  7039 15688]\n",
      " [ 5062     0  9726 ... 13401 16818 34219]\n",
      " [ 5009  9726     0 ... 12198 15083 31149]\n",
      " ...\n",
      " [ 6347 13401 12198 ...     0 17613 43219]\n",
      " [ 7039 16818 15083 ... 17613     0 42820]\n",
      " [15688 34219 31149 ... 43219 42820     0]]\n",
      "Full kernel matrix:\n",
      "[[  3608   5062   5009 ...   6347   7039  15688]\n",
      " [  5062  14532   9726 ...  13401  16818  34219]\n",
      " [  5009   9726  13649 ...  12198  15083  31149]\n",
      " ...\n",
      " [  6347  13401  12198 ...  19780  17613  43219]\n",
      " [  7039  16818  15083 ...  17613  28336  42820]\n",
      " [ 15688  34219  31149 ...  43219  42820 130398]]\n"
     ]
    }
   ],
   "source": [
    "print(\"Unbiased kernel matrix:\")\n",
    "print(KX_unbiased)\n",
    "print(\"Full kernel matrix:\")\n",
    "print(KX_biased)"
   ]
  }
 ],
 "metadata": {
  "interpreter": {
   "hash": "d0f8c1a65a8c7501bd8c561dce0fb2eefd635004fbfbf4d94fd4501951866fdc"
  },
  "kernelspec": {
   "display_name": "Python 3.9.7 ('fastwlk-Gi5rWeEH-py3.9')",
   "language": "python",
   "name": "python397jvsc74a57bd0d0f8c1a65a8c7501bd8c561dce0fb2eefd635004fbfbf4d94fd4501951866fdc"
  },
  "language_info": {
   "codemirror_mode": {
    "name": "ipython",
    "version": 3
   },
   "file_extension": ".py",
   "mimetype": "text/x-python",
   "name": "python",
   "nbconvert_exporter": "python",
   "pygments_lexer": "ipython3",
   "version": "3.9.7"
  }
 },
 "nbformat": 4,
 "nbformat_minor": 4
}

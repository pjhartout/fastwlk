{
 "cells": [
  {
   "cell_type": "code",
   "execution_count": null,
   "metadata": {},
   "outputs": [],
   "source": [
    "import pickle\n",
    "\n",
    "from pyprojroot import here\n",
    "\n",
    "from fastwlk.weisfeiler_lehman import WeisfeilerLehman\n"
   ]
  },
  {
   "cell_type": "code",
   "execution_count": null,
   "metadata": {},
   "outputs": [],
   "source": [
    "# Let's first load some graphs from a pickle file\n",
    "with open(here() / \"examples/graphs.pkl\", \"rb\") as f:\n",
    "        graphs = pickle.load(f)"
   ]
  },
  {
   "cell_type": "code",
   "execution_count": null,
   "metadata": {},
   "outputs": [],
   "source": [
    "wl_kernel = WeisfeilerLehman(\n",
    "        n_jobs=6, n_iter=4, node_label=\"residue\", biased=True, verbose=True\n",
    ")\n",
    "# Returns self-similarity kernel matrix\n",
    "KX = wl_kernel.compute_gram_matrix(graphs)\n",
    "\n",
    "# Returns similarity kernel matrix between two different graph distributions\n",
    "KXY = wl_kernel.compute_gram_matrix(graphs[:30], graphs[30:])\n",
    "\n"
   ]
  },
  {
   "cell_type": "code",
   "execution_count": null,
   "metadata": {},
   "outputs": [],
   "source": [
    "print(KX.shape)\n",
    "print(KXY.shape)\n"
   ]
  },
  {
   "cell_type": "code",
   "execution_count": null,
   "metadata": {},
   "outputs": [],
   "source": [
    "# It's also possible to get an unbiased version of the kernel matrix, avoiding comparing X_i to itself, saving even more computations.\n",
    "# This can be useful when evaluating unbiased estimates of the maximum mean discrepancy and other similarity measures in RKHS.\n",
    "\n",
    "wl_kernel_unbiased = WeisfeilerLehman(\n",
    "        n_jobs=6, n_iter=4, node_label=\"residue\", biased=False, verbose=True,\n",
    "    )\n",
    "# Returns unbiased self-similarity kernel matrix\n",
    "KX_unbiased = wl_kernel_unbiased.compute_gram_matrix(graphs)\n",
    "\n",
    "wl_kernel_biased = WeisfeilerLehman(\n",
    "    n_jobs=6, n_iter=4, node_label=\"residue\", biased=True, verbose=True,\n",
    ")\n",
    "# Returns biased self-similarity kernel matrix\n",
    "KX_biased = wl_kernel_biased.compute_gram_matrix(graphs)"
   ]
  },
  {
   "cell_type": "code",
   "execution_count": null,
   "metadata": {},
   "outputs": [],
   "source": [
    "print(\"Unbiased kernel matrix:\")\n",
    "print(KX_unbiased)\n",
    "print(\"Full kernel matrix:\")\n",
    "print(KX_biased)"
   ]
  },
  {
   "cell_type": "code",
   "execution_count": null,
   "metadata": {},
   "outputs": [],
   "source": []
  },
  {
   "cell_type": "code",
   "execution_count": null,
   "metadata": {},
   "outputs": [],
   "source": []
  }
 ],
 "metadata": {
  "interpreter": {
   "hash": "d0f8c1a65a8c7501bd8c561dce0fb2eefd635004fbfbf4d94fd4501951866fdc"
  },
  "kernelspec": {
   "display_name": "Python 3.9.7 ('fastwlk-Gi5rWeEH-py3.9')",
   "language": "python",
   "name": "python3"
  },
  "language_info": {
   "codemirror_mode": {
    "name": "ipython",
    "version": 3
   },
   "file_extension": ".py",
   "mimetype": "text/x-python",
   "name": "python",
   "nbconvert_exporter": "python",
   "pygments_lexer": "ipython3",
   "version": "3.9.7"
  }
 },
 "nbformat": 4,
 "nbformat_minor": 2
}
